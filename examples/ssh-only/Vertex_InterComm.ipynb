{
 "cells": [
  {
   "cell_type": "code",
   "execution_count": null,
   "id": "26f8cded-157b-49a3-a4f6-2536ecfc9121",
   "metadata": {},
   "outputs": [],
   "source": [
    "#\n",
    "# Copyright 2023 Google LLC\n",
    "# \n",
    "# Licensed under the Apache License, Version 2.0 (the \"License\");\n",
    "# you may not use this file except in compliance with the License.\n",
    "# You may obtain a copy of the License at\n",
    "# \n",
    "#     https://www.apache.org/licenses/LICENSE-2.0\n",
    "# \n",
    "# Unless required by applicable law or agreed to in writing, software\n",
    "# distributed under the License is distributed on an \"AS IS\" BASIS,\n",
    "# WITHOUT WARRANTIES OR CONDITIONS OF ANY KIND, either express or implied.\n",
    "# See the License for the specific language governing permissions and\n",
    "# limitations under the License.\n",
    "#"
   ]
  },
  {
   "cell_type": "markdown",
   "id": "22bca191-3864-471c-becc-bb072adb09c5",
   "metadata": {},
   "source": [
    "# Setup Container"
   ]
  },
  {
   "cell_type": "code",
   "execution_count": null,
   "id": "69e20825-7406-4fef-9654-7975f6ca44fb",
   "metadata": {},
   "outputs": [],
   "source": [
    "# Artifact Registry Repo\n",
    "AR_REPO=\"vertex-customjob\"\n",
    "IMG_NAME=\"intercom\""
   ]
  },
  {
   "cell_type": "code",
   "execution_count": null,
   "id": "da293c02-7be8-4559-a2df-10ee42b98192",
   "metadata": {},
   "outputs": [],
   "source": [
    "PROJECT_ID=!gcloud config get-value project\n",
    "PROJECT_ID=PROJECT_ID[0]\n",
    "LOCATION=\"\"\n",
    "BUCKET=\"\"\n",
    "IMAGE_URI=\"us-docker.pkg.dev/{}/{}/{}:latest\".format(PROJECT_ID,AR_REPO,IMG_NAME)"
   ]
  },
  {
   "cell_type": "code",
   "execution_count": null,
   "id": "c71c5b62-3f56-4f84-a344-4f94eaf34947",
   "metadata": {},
   "outputs": [],
   "source": [
    "%cd ~/vertex-deepspeed"
   ]
  },
  {
   "cell_type": "code",
   "execution_count": null,
   "id": "61c4f5dc-a733-462d-897c-24d17ffa914c",
   "metadata": {},
   "outputs": [],
   "source": [
    "DOCKERFILE=f\"examples/ssh-only/{IMG_NAME}.Dockerfile\"\n",
    "!echo $DOCKERFILE\n",
    "!docker build . -t $IMAGE_URI -f $DOCKERFILE"
   ]
  },
  {
   "cell_type": "code",
   "execution_count": null,
   "id": "c22d05c3-a2b1-4f70-9849-f9dba9414cf9",
   "metadata": {},
   "outputs": [],
   "source": [
    "# This test triggers a test run with an example Vertex $CLUSTER_SPEC\n",
    "# It will eventually call train.sh, which without customization enters sleep 3600\n",
    "# You can kill the test explicitly\n",
    "TEST_AIP_MODEL_DIR=f\"gs://{BUCKET}/model/\"\n",
    "!docker run --rm -e TESTING=\"true\" -e AIP_MODEL_DIR=$TEST_AIP_MODEL_DIR $IMAGE_URI "
   ]
  },
  {
   "cell_type": "code",
   "execution_count": null,
   "id": "5c18bb81-eab9-4851-9de0-aa35234f555b",
   "metadata": {},
   "outputs": [],
   "source": [
    "# If this throws error\n",
    "# add \"us-docker.pkg.dev\": \"gcloud\" to /home/jupyter/.docker/config.json\n",
    "!gcloud auth configure-docker"
   ]
  },
  {
   "cell_type": "code",
   "execution_count": null,
   "id": "c12f804e-d987-40a3-87e6-f931bf0ab533",
   "metadata": {},
   "outputs": [],
   "source": [
    "# Make sure the repo specified in $AR_REPO exists.\n",
    "!echo $IMAGE_URI\n",
    "!docker push $IMAGE_URI"
   ]
  },
  {
   "cell_type": "markdown",
   "id": "6e3583fc-de23-428d-92c7-82fb33153c35",
   "metadata": {},
   "source": [
    "# Test container with aiplatform.CustomJob"
   ]
  },
  {
   "cell_type": "code",
   "execution_count": null,
   "id": "94457cc4-ef09-470d-934d-a14189a95300",
   "metadata": {},
   "outputs": [],
   "source": [
    "from datetime import datetime\n",
    "from google.cloud import aiplatform\n",
    "\n",
    "TIMESTAMP = datetime.now().strftime(\"%Y%m%d%H%M%S\")\n",
    "\n",
    "aiplatform.init(project=PROJECT_ID, staging_bucket=BUCKET, location=LOCATION)"
   ]
  },
  {
   "cell_type": "code",
   "execution_count": null,
   "id": "13e7e084-a6b7-4795-901f-7b081814249c",
   "metadata": {
    "tags": []
   },
   "outputs": [],
   "source": [
    "worker_pool_specs = [\n",
    "    # `WorkerPoolSpec` for worker pool 0, primary replica, required  \n",
    "    {\n",
    "        \"machine_spec\": {\n",
    "            \"machine_type\": \"n1-standard-4\",\n",
    "            #\"accelerator_type\": \"NVIDIA_TESLA_K80\",\n",
    "            #\"accelerator_count\": 1,       \n",
    "        },\n",
    "        \"replica_count\": 1,\n",
    "        \"container_spec\": {\n",
    "            \"image_uri\": IMAGE_URI,\n",
    "            \"command\": [],\n",
    "            \"args\": [],\n",
    "            \"env\": [],                \n",
    "        },\n",
    "        # \"disk_spec\": {\n",
    "        #    \"boot_disk_size_gb\": 200,            \n",
    "        # }\n",
    "    },\n",
    "    {\n",
    "        \"machine_spec\": {\n",
    "            \"machine_type\": \"n1-standard-4\",\n",
    "            #\"accelerator_type\": \"NVIDIA_TESLA_K80\",\n",
    "            #\"accelerator_count\": 1,           \n",
    "       },\n",
    "       \"container_spec\": {\n",
    "           \"image_uri\": IMAGE_URI,\n",
    "           \"env\": []\n",
    "       },        \n",
    "       \"replica_count\": 1,\n",
    "    },\n",
    "]\n",
    "\n",
    "my_job = aiplatform.CustomJob(\n",
    "    display_name=\"CustomJob multinode SSH Test \" + TIMESTAMP,    \n",
    "    worker_pool_specs=worker_pool_specs,\n",
    "    # labels={'my_key': 'my_value'},\n",
    ")"
   ]
  },
  {
   "cell_type": "code",
   "execution_count": null,
   "id": "cb6c5133-e0b0-427d-ae81-da5ea8ab5c93",
   "metadata": {},
   "outputs": [],
   "source": [
    "# \n",
    "# Running the CustomJob\n",
    "#\n",
    "# If custom vpc peering and custom service accounts are desirable, first configure them:\n",
    "#\n",
    "# VPC Peering - https://cloud.google.com/vertex-ai/docs/general/vpc-peering .\n",
    "# Custom Service Account - https://cloud.google.com/vertex-ai/docs/general/custom-service-account \n",
    "#\n",
    "# For custom service account, \n",
    "# be sure to first grant the SA running this notebook the \"Service Account User\" role, \n",
    "# otherwise you won't be able to launch the job with the custom service account.\n",
    "#\n",
    "# Checking Service account that will launch the job\n",
    "!gcloud config get account\n",
    "\n",
    "my_job.submit(    \n",
    "    enable_web_access=True, # For debugging\n",
    "    # network=\"projects/{PROJECT_NUMBER}/global/networks/{PEER_NETWORK_NAME}\",\n",
    "    # service_account=\"{CUSTOM_SA_EMAIL}\",\n",
    ")"
   ]
  }
 ],
 "metadata": {
  "environment": {
   "kernel": "python3",
   "name": "pytorch-gpu.1-13.m110",
   "type": "gcloud",
   "uri": "gcr.io/deeplearning-platform-release/pytorch-gpu.1-13:m110"
  },
  "kernelspec": {
   "display_name": "Python 3",
   "language": "python",
   "name": "python3"
  },
  "language_info": {
   "codemirror_mode": {
    "name": "ipython",
    "version": 3
   },
   "file_extension": ".py",
   "mimetype": "text/x-python",
   "name": "python",
   "nbconvert_exporter": "python",
   "pygments_lexer": "ipython3",
   "version": "3.10.12"
  }
 },
 "nbformat": 4,
 "nbformat_minor": 5
}
